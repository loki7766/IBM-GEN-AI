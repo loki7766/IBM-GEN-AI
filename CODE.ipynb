{
  "nbformat": 4,
  "nbformat_minor": 0,
  "metadata": {
    "colab": {
      "provenance": []
    },
    "kernelspec": {
      "name": "python3",
      "display_name": "Python 3"
    },
    "language_info": {
      "name": "python"
    }
  },
  "cells": [
    {
      "cell_type": "code",
      "execution_count": 1,
      "metadata": {
        "colab": {
          "base_uri": "https://localhost:8080/",
          "height": 351
        },
        "id": "EVg2gxxviHYm",
        "outputId": "ae4ed3a6-dce6-467f-ed5b-370a2e3c7fd3"
      },
      "outputs": [
        {
          "output_type": "error",
          "ename": "TypeError",
          "evalue": "User() takes no arguments",
          "traceback": [
            "\u001b[0;31m---------------------------------------------------------------------------\u001b[0m",
            "\u001b[0;31mTypeError\u001b[0m                                 Traceback (most recent call last)",
            "\u001b[0;32m<ipython-input-1-a89f89406ce3>\u001b[0m in \u001b[0;36m<cell line: 57>\u001b[0;34m()\u001b[0m\n\u001b[1;32m     55\u001b[0m \u001b[0;31m# Example usage:\u001b[0m\u001b[0;34m\u001b[0m\u001b[0;34m\u001b[0m\u001b[0m\n\u001b[1;32m     56\u001b[0m \u001b[0mcoach\u001b[0m \u001b[0;34m=\u001b[0m \u001b[0mAIFitnessCoach\u001b[0m\u001b[0;34m(\u001b[0m\u001b[0;34m)\u001b[0m\u001b[0;34m\u001b[0m\u001b[0;34m\u001b[0m\u001b[0m\n\u001b[0;32m---> 57\u001b[0;31m \u001b[0muser1\u001b[0m \u001b[0;34m=\u001b[0m \u001b[0mcoach\u001b[0m\u001b[0;34m.\u001b[0m\u001b[0mregister_user\u001b[0m\u001b[0;34m(\u001b[0m\u001b[0;34m\"Alice\"\u001b[0m\u001b[0;34m,\u001b[0m \u001b[0;36m25\u001b[0m\u001b[0;34m,\u001b[0m \u001b[0;34m\"Female\"\u001b[0m\u001b[0;34m,\u001b[0m \u001b[0;34m\"Intermediate\"\u001b[0m\u001b[0;34m,\u001b[0m \u001b[0;34m\"Weight Loss\"\u001b[0m\u001b[0;34m)\u001b[0m\u001b[0;34m\u001b[0m\u001b[0;34m\u001b[0m\u001b[0m\n\u001b[0m\u001b[1;32m     58\u001b[0m \u001b[0mworkout_plan\u001b[0m \u001b[0;34m=\u001b[0m \u001b[0mcoach\u001b[0m\u001b[0;34m.\u001b[0m\u001b[0mgenerate_workout_plan\u001b[0m\u001b[0;34m(\u001b[0m\u001b[0muser1\u001b[0m\u001b[0;34m)\u001b[0m\u001b[0;34m\u001b[0m\u001b[0;34m\u001b[0m\u001b[0m\n\u001b[1;32m     59\u001b[0m \u001b[0mnutrition_plan\u001b[0m \u001b[0;34m=\u001b[0m \u001b[0mcoach\u001b[0m\u001b[0;34m.\u001b[0m\u001b[0mgenerate_nutrition_plan\u001b[0m\u001b[0;34m(\u001b[0m\u001b[0muser1\u001b[0m\u001b[0;34m)\u001b[0m\u001b[0;34m\u001b[0m\u001b[0;34m\u001b[0m\u001b[0m\n",
            "\u001b[0;32m<ipython-input-1-a89f89406ce3>\u001b[0m in \u001b[0;36mregister_user\u001b[0;34m(self, name, age, gender, fitness_level, goal)\u001b[0m\n\u001b[1;32m     37\u001b[0m \u001b[0;34m\u001b[0m\u001b[0m\n\u001b[1;32m     38\u001b[0m     \u001b[0;32mdef\u001b[0m \u001b[0mregister_user\u001b[0m\u001b[0;34m(\u001b[0m\u001b[0mself\u001b[0m\u001b[0;34m,\u001b[0m \u001b[0mname\u001b[0m\u001b[0;34m,\u001b[0m \u001b[0mage\u001b[0m\u001b[0;34m,\u001b[0m \u001b[0mgender\u001b[0m\u001b[0;34m,\u001b[0m \u001b[0mfitness_level\u001b[0m\u001b[0;34m,\u001b[0m \u001b[0mgoal\u001b[0m\u001b[0;34m)\u001b[0m\u001b[0;34m:\u001b[0m\u001b[0;34m\u001b[0m\u001b[0;34m\u001b[0m\u001b[0m\n\u001b[0;32m---> 39\u001b[0;31m         \u001b[0muser\u001b[0m \u001b[0;34m=\u001b[0m \u001b[0mUser\u001b[0m\u001b[0;34m(\u001b[0m\u001b[0mname\u001b[0m\u001b[0;34m,\u001b[0m \u001b[0mage\u001b[0m\u001b[0;34m,\u001b[0m \u001b[0mgender\u001b[0m\u001b[0;34m,\u001b[0m \u001b[0mfitness_level\u001b[0m\u001b[0;34m,\u001b[0m \u001b[0mgoal\u001b[0m\u001b[0;34m)\u001b[0m\u001b[0;34m\u001b[0m\u001b[0;34m\u001b[0m\u001b[0m\n\u001b[0m\u001b[1;32m     40\u001b[0m         \u001b[0mself\u001b[0m\u001b[0;34m.\u001b[0m\u001b[0musers\u001b[0m\u001b[0;34m[\u001b[0m\u001b[0mname\u001b[0m\u001b[0;34m]\u001b[0m \u001b[0;34m=\u001b[0m \u001b[0muser\u001b[0m\u001b[0;34m\u001b[0m\u001b[0;34m\u001b[0m\u001b[0m\n\u001b[1;32m     41\u001b[0m         \u001b[0;32mreturn\u001b[0m \u001b[0muser\u001b[0m\u001b[0;34m\u001b[0m\u001b[0;34m\u001b[0m\u001b[0m\n",
            "\u001b[0;31mTypeError\u001b[0m: User() takes no arguments"
          ]
        }
      ],
      "source": [
        "# Import necessary libraries\n",
        "import pandas as pd\n",
        "\n",
        "# Define User class\n",
        "class User:\n",
        "    def _init_(self, name, age, gender, fitness_level, goal):\n",
        "        self.name = name\n",
        "        self.age = age\n",
        "        self.gender = gender\n",
        "        self.fitness_level = fitness_level\n",
        "        self.goal = goal\n",
        "        self.workout_history = []\n",
        "        self.nutrition_plan = None\n",
        "\n",
        "    def update_workout_history(self, workout):\n",
        "        self.workout_history.append(workout)\n",
        "\n",
        "    def update_nutrition_plan(self, plan):\n",
        "        self.nutrition_plan = plan\n",
        "\n",
        "# Define Workout class\n",
        "class Workout:\n",
        "    def _init_(self, name, duration, intensity):\n",
        "        self.name = name\n",
        "        self.duration = duration\n",
        "        self.intensity = intensity\n",
        "\n",
        "# Define NutritionPlan class\n",
        "class NutritionPlan:\n",
        "    def _init_(self, plan):\n",
        "        self.plan = plan\n",
        "\n",
        "# Define AI Fitness Coach class\n",
        "class AIFitnessCoach:\n",
        "    def _init_(self):\n",
        "        self.users = {}\n",
        "\n",
        "    def register_user(self, name, age, gender, fitness_level, goal):\n",
        "        user = User(name, age, gender, fitness_level, goal)\n",
        "        self.users[name] = user\n",
        "        return user\n",
        "\n",
        "    def generate_workout_plan(self, user):\n",
        "        # Placeholder logic to generate personalized workout plan based on user data\n",
        "        workout_plan = [Workout('Cardio', '30 mins', 'Moderate')]\n",
        "        user.update_workout_history(workout_plan)\n",
        "        return workout_plan\n",
        "\n",
        "    def generate_nutrition_plan(self, user):\n",
        "        # Placeholder logic to generate personalized nutrition plan based on user data\n",
        "        nutrition_plan = NutritionPlan('Balanced Diet')\n",
        "        user.update_nutrition_plan(nutrition_plan)\n",
        "        return nutrition_plan\n",
        "\n",
        "# Example usage:\n",
        "coach = AIFitnessCoach()\n",
        "user1 = coach.register_user(\"Alice\", 25, \"Female\", \"Intermediate\", \"Weight Loss\")\n",
        "workout_plan = coach.generate_workout_plan(user1)\n",
        "nutrition_plan = coach.generate_nutrition_plan(user1)\n",
        "\n",
        "# Display user information and plans\n",
        "print(\"User Information:\")\n",
        "print(\"Name:\", user1.name)\n",
        "print(\"Age:\", user1.age)\n",
        "print(\"Gender:\", user1.gender)\n",
        "print(\"Fitness Level:\", user1.fitness_level)\n",
        "print(\"Goal:\", user1.goal)\n",
        "print(\"\\nWorkout Plan:\")\n",
        "for workout in workout_plan:\n",
        "    print(workout.name, \"-\", workout.duration, \"-\", workout.intensity)\n",
        "print(\"\\nNutrition Plan:\")\n",
        "print(nutrition_plan.plan)\n"
      ]
    }
  ]
}